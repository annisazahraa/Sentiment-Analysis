{
  "nbformat": 4,
  "nbformat_minor": 0,
  "metadata": {
    "colab": {
      "name": "Sentiment Analysis - BLSTM.ipynb",
      "provenance": [],
      "collapsed_sections": []
    },
    "kernelspec": {
      "display_name": "Python 3",
      "language": "python",
      "name": "python3"
    },
    "language_info": {
      "codemirror_mode": {
        "name": "ipython",
        "version": 3
      },
      "file_extension": ".py",
      "mimetype": "text/x-python",
      "name": "python",
      "nbconvert_exporter": "python",
      "pygments_lexer": "ipython3",
      "version": "3.6.5"
    }
  },
  "cells": [
    {
      "cell_type": "code",
      "metadata": {
        "id": "eiJIdlCVUGbK"
      },
      "source": [
        "pip install xlsxwriter"
      ],
      "execution_count": null,
      "outputs": []
    },
    {
      "cell_type": "code",
      "metadata": {
        "id": "riLGRKWhSgq6"
      },
      "source": [
        "import numpy as np\n",
        "import pandas as pd \n",
        "from keras import initializers\n",
        "from keras.preprocessing.text import Tokenizer\n",
        "from keras.preprocessing.sequence import pad_sequences\n",
        "from keras.models import Sequential\n",
        "from keras.optimizers import Adam, Nadam, RMSprop\n",
        "from keras.layers import Dense, Embedding, Dropout, LSTM, Bidirectional\n",
        "from sklearn.model_selection import train_test_split\n",
        "from keras.utils.np_utils import to_categorical\n",
        "\n",
        "import matplotlib.pyplot as plt\n",
        "from sklearn.metrics import accuracy_score\n",
        "import seaborn as sns\n",
        "import xlsxwriter"
      ],
      "execution_count": null,
      "outputs": []
    },
    {
      "cell_type": "code",
      "metadata": {
        "colab": {
          "base_uri": "https://localhost:8080/",
          "height": 565
        },
        "id": "3AHl26f3Sgq-",
        "outputId": "ca7ca4bc-fa7f-4d43-c03e-bc5bcc685c77"
      },
      "source": [
        "data = pd.read_excel(\"/content/labeled.xlsx\")\n",
        "data.replace('', np.nan, inplace=True)\n",
        "data.dropna(inplace=True)\n",
        "\n",
        "negatif = data.loc[data['label'] == 'negatif', 'tweet'].copy().reset_index(drop=True)\n",
        "positif = data.loc[data['label'] == 'positif', 'tweet'].copy().reset_index(drop=True)\n",
        "netral = data.loc[data['label'] == 'netral', 'tweet'].copy().reset_index(drop=True)\n",
        "print(\"Total Data :\", len(data))\n",
        "print(\"negatif :\", len(negatif))\n",
        "print(\"positif :\", len(positif))\n",
        "print(\"netral :\", len(netral))\n",
        "\n",
        "plt.figure(figsize=(10,8))\n",
        "sns.countplot(x='label', data=data)\n",
        "plt.show()"
      ],
      "execution_count": null,
      "outputs": [
        {
          "output_type": "stream",
          "text": [
            "Total Data : 6990\n",
            "negatif : 503\n",
            "positif : 3060\n",
            "netral : 3427\n"
          ],
          "name": "stdout"
        },
        {
          "output_type": "display_data",
          "data": {
            "image/png": "[encoded data removed]",
            "text/plain": [
              "<Figure size 720x576 with 1 Axes>"
            ]
          },
          "metadata": {
            "tags": [],
            "needs_background": "light"
          }
        }
      ]
    },
    {
      "cell_type": "code",
      "metadata": {
        "colab": {
          "base_uri": "https://localhost:8080/"
        },
        "id": "PTkheMbGeJR9",
        "outputId": "8d33b90d-5adb-426b-e77f-b1b915015952"
      },
      "source": [
        "data[\"label\"].value_counts()"
      ],
      "execution_count": null,
      "outputs": [
        {
          "output_type": "execute_result",
          "data": {
            "text/plain": [
              "netral     3427\n",
              "positif    3060\n",
              "negatif     503\n",
              "Name: label, dtype: int64"
            ]
          },
          "metadata": {
            "tags": []
          },
          "execution_count": 5
        }
      ]
    },
    {
      "cell_type": "code",
      "metadata": {
        "id": "Fblgjx2wguXe"
      },
      "source": [
        "count_class_0_sent, count_class_1_sent, count_class_2_sent = data.label.value_counts()\n",
        "data_class_0_sent = data[data['label'] == \"netral\"]\n",
        "data_class_1_sent = data[data['label'] == \"positif\"]\n",
        "data_class_2_sent = data[data['label'] == \"negatif\"]\n"
      ],
      "execution_count": null,
      "outputs": []
    },
    {
      "cell_type": "code",
      "metadata": {
        "colab": {
          "base_uri": "https://localhost:8080/",
          "height": 392
        },
        "id": "w_Y4y6ZJhESP",
        "outputId": "a4fd3b3d-8798-48b4-aaca-64add957f947"
      },
      "source": [
        "data_class_0_over_sent = data_class_0_sent.sample(3000, replace=True, random_state=1)\n",
        "data_class_1_over_sent = data_class_1_sent.sample(3000, replace=True, random_state=1)\n",
        "data_class_2_over_sent = data_class_2_sent.sample(1500, replace=True, random_state=1)\n",
        "data_test_over_sent = pd.concat([data_class_0_over_sent, data_class_1_over_sent, data_class_2_over_sent ], axis=0)\n",
        "\n",
        "print('Random over-sampling:')\n",
        "print(data_test_over_sent.label.value_counts())\n",
        "\n",
        "data_test_over_sent.label.value_counts().plot(kind='bar', title='Count (target)');"
      ],
      "execution_count": null,
      "outputs": [
        {
          "output_type": "stream",
          "text": [
            "Random over-sampling:\n",
            "positif    3000\n",
            "netral     3000\n",
            "negatif    1500\n",
            "Name: label, dtype: int64\n"
          ],
          "name": "stdout"
        },
        {
          "output_type": "display_data",
          "data": {
            "image/png": "[encoded data removed]",
            "text/plain": [
              "<Figure size 432x288 with 1 Axes>"
            ]
          },
          "metadata": {
            "tags": [],
            "needs_background": "light"
          }
        }
      ]
    },
    {
      "cell_type": "code",
      "metadata": {
        "id": "lWD4uBlKhdWk"
      },
      "source": [
        "from __future__ import print_function\n",
        "from keras.preprocessing.text import text_to_word_sequence\n",
        "from keras.preprocessing.text import Tokenizer\n",
        "\n",
        "from keras.models import load_model\n",
        "from keras.preprocessing import sequence\n",
        "from keras.models import Sequential\n",
        "from keras.layers import Dense, Dropout, Activation\n",
        "from keras.layers import Embedding\n",
        "from keras.layers import Conv1D, GlobalMaxPooling1D, MaxPooling1D, LSTM, GRU, Bidirectional\n",
        "from keras.callbacks import EarlyStopping\n",
        "from keras import initializers\n",
        "import seaborn as sns\n",
        "import matplotlib.pyplot as plt\n",
        "import numpy as np"
      ],
      "execution_count": null,
      "outputs": []
    },
    {
      "cell_type": "code",
      "metadata": {
        "id": "c4R33D_thgll"
      },
      "source": [
        "cols_sent = ['label','after stopword']\n",
        "d_sent = data_test_over_sent[cols_sent]\n",
        "d_sent = d_sent[d_sent['after stopword'].notnull()]"
      ],
      "execution_count": null,
      "outputs": []
    },
    {
      "cell_type": "code",
      "metadata": {
        "colab": {
          "base_uri": "https://localhost:8080/"
        },
        "id": "IbVq0MDWhoRd",
        "outputId": "6cf8f911-491a-4b4d-9420-ad168a922894"
      },
      "source": [
        "d_sent.reset_index(drop=True,inplace=True)\n",
        "x_sent = d_sent.iloc[:, 1].values\n",
        "y_sent = d_sent.iloc[:, 0].values\n",
        "print(np.unique(y_sent, return_counts=True))"
      ],
      "execution_count": null,
      "outputs": [
        {
          "output_type": "stream",
          "text": [
            "(array(['negatif', 'netral', 'positif'], dtype=object), array([1500, 3000, 3000]))\n"
          ],
          "name": "stdout"
        }
      ]
    },
    {
      "cell_type": "code",
      "metadata": {
        "colab": {
          "base_uri": "https://localhost:8080/",
          "height": 35
        },
        "id": "1pY6tf0iLrI0",
        "outputId": "afac75f4-7e03-4803-fba1-2d39449f4ccd"
      },
      "source": [
        "y_sent[1]"
      ],
      "execution_count": null,
      "outputs": [
        {
          "output_type": "execute_result",
          "data": {
            "application/vnd.google.colaboratory.intrinsic+json": {
              "type": "string"
            },
            "text/plain": [
              "'netral'"
            ]
          },
          "metadata": {
            "tags": []
          },
          "execution_count": 55
        }
      ]
    },
    {
      "cell_type": "code",
      "metadata": {
        "colab": {
          "base_uri": "https://localhost:8080/",
          "height": 35
        },
        "id": "y1at-wKIL9Pi",
        "outputId": "3fce00b4-c35c-465e-f23f-cea45eedb909"
      },
      "source": [
        "y_sent[4000]"
      ],
      "execution_count": null,
      "outputs": [
        {
          "output_type": "execute_result",
          "data": {
            "application/vnd.google.colaboratory.intrinsic+json": {
              "type": "string"
            },
            "text/plain": [
              "'positif'"
            ]
          },
          "metadata": {
            "tags": []
          },
          "execution_count": 12
        }
      ]
    },
    {
      "cell_type": "code",
      "metadata": {
        "colab": {
          "base_uri": "https://localhost:8080/",
          "height": 35
        },
        "id": "9ja0C2nBMEPV",
        "outputId": "6fc421df-7e8f-4a64-c4dc-1ac8f27a8e0b"
      },
      "source": [
        "y_sent[6500]"
      ],
      "execution_count": null,
      "outputs": [
        {
          "output_type": "execute_result",
          "data": {
            "application/vnd.google.colaboratory.intrinsic+json": {
              "type": "string"
            },
            "text/plain": [
              "'negatif'"
            ]
          },
          "metadata": {
            "tags": []
          },
          "execution_count": 14
        }
      ]
    },
    {
      "cell_type": "code",
      "metadata": {
        "id": "O0K6Rl9iZLG9"
      },
      "source": [
        "from tensorflow.keras import utils as np_utils"
      ],
      "execution_count": null,
      "outputs": []
    },
    {
      "cell_type": "code",
      "metadata": {
        "id": "pIFH-H3k3MWL"
      },
      "source": [
        "tk_sent = Tokenizer()"
      ],
      "execution_count": null,
      "outputs": []
    },
    {
      "cell_type": "code",
      "metadata": {
        "colab": {
          "base_uri": "https://localhost:8080/"
        },
        "id": "g_1tIcD_SgrB",
        "outputId": "ea99c733-3988-444b-bcaf-0cae6d2f7ff4"
      },
      "source": [
        "text_sent = d_sent['after stopword'].values\n",
        "maxlen_sent = max([len(i.split()) for i in text_sent])\n",
        "tk_sent.fit_on_texts(text_sent) \n",
        "x_sent = tk_sent.texts_to_sequences(x_sent) \n",
        "x_sent = sequence.pad_sequences(x_sent, maxlen_sent, padding=\"post\") \n",
        "vocab_sent = 48805\n",
        "print(x_sent)"
      ],
      "execution_count": null,
      "outputs": [
        {
          "output_type": "stream",
          "text": [
            "[[ 760 2432 1373 ...    0    0    0]\n",
            " [3291 4782  587 ... 1599    0    0]\n",
            " [3293  624    1 ...    0    0    0]\n",
            " ...\n",
            " [1829    4  193 ...    0    0    0]\n",
            " [  14    1    0 ...    0    0    0]\n",
            " [1366 1367    0 ...    0    0    0]]\n"
          ],
          "name": "stdout"
        }
      ]
    },
    {
      "cell_type": "code",
      "metadata": {
        "colab": {
          "base_uri": "https://localhost:8080/"
        },
        "id": "05j6byb7h1JL",
        "outputId": "32a3701a-6c68-4275-fb4a-133da6c29835"
      },
      "source": [
        "print(\"vocab sentiment : \" + str(vocab_sent))\n",
        "print(\"maxlen sentiment : \" + str(maxlen_sent))"
      ],
      "execution_count": null,
      "outputs": [
        {
          "output_type": "stream",
          "text": [
            "vocab sentiment : 48805\n",
            "maxlen sentiment : 23\n"
          ],
          "name": "stdout"
        }
      ]
    },
    {
      "cell_type": "code",
      "metadata": {
        "id": "2WtigFb64ZgN"
      },
      "source": [
        "from tensorflow.keras import utils as np_utils"
      ],
      "execution_count": null,
      "outputs": []
    },
    {
      "cell_type": "code",
      "metadata": {
        "colab": {
          "base_uri": "https://localhost:8080/"
        },
        "id": "rObIE1BL4iG1",
        "outputId": "31cd1250-faeb-4fe2-f753-149290e02d60"
      },
      "source": [
        "from sklearn.preprocessing import LabelEncoder\n",
        "\n",
        "labelencoder_Y_sent = LabelEncoder()\n",
        "y_sent = labelencoder_Y_sent.fit_transform(y_sent)\n",
        "print(y_sent)\n",
        "print(np.unique(y_sent, return_counts=True))"
      ],
      "execution_count": null,
      "outputs": [
        {
          "output_type": "stream",
          "text": [
            "[1 1 1 ... 0 0 0]\n",
            "(array([0, 1, 2]), array([1500, 3000, 3000]))\n"
          ],
          "name": "stdout"
        }
      ]
    },
    {
      "cell_type": "code",
      "metadata": {
        "colab": {
          "base_uri": "https://localhost:8080/"
        },
        "id": "EqPM7jhOSgrD",
        "outputId": "eb8da74f-709d-494d-99cf-104367591962"
      },
      "source": [
        "from tensorflow.keras import utils as np_utils\n",
        "y_sent = np_utils.to_categorical(y_sent, num_classes= 3)\n",
        "# One hot encoded\n",
        "print(y_sent)"
      ],
      "execution_count": null,
      "outputs": [
        {
          "output_type": "stream",
          "text": [
            "[[0. 1. 0.]\n",
            " [0. 1. 0.]\n",
            " [0. 1. 0.]\n",
            " ...\n",
            " [1. 0. 0.]\n",
            " [1. 0. 0.]\n",
            " [1. 0. 0.]]\n"
          ],
          "name": "stdout"
        }
      ]
    },
    {
      "cell_type": "code",
      "metadata": {
        "colab": {
          "base_uri": "https://localhost:8080/"
        },
        "id": "Y96bUkrNh-vM",
        "outputId": "4cfda1a1-b8e0-4e8f-847c-58d2bf62aa8e"
      },
      "source": [
        "from sklearn.model_selection import train_test_split\n",
        "x_train_sent, x_test_sent, y_train_sent, y_test_sent, indices_train_sent, indices_test_sent = train_test_split(x_sent, y_sent, d_sent.index, test_size=0.2, random_state=42)\n",
        "\n",
        "print(x_train_sent.shape)\n",
        "print(y_train_sent.shape)\n",
        "print(x_test_sent.shape)\n",
        "print(y_test_sent.shape)\n",
        "print(y_sent)"
      ],
      "execution_count": null,
      "outputs": [
        {
          "output_type": "stream",
          "text": [
            "(6000, 23)\n",
            "(6000, 3)\n",
            "(1500, 23)\n",
            "(1500, 3)\n",
            "[[0. 1. 0.]\n",
            " [0. 1. 0.]\n",
            " [0. 1. 0.]\n",
            " ...\n",
            " [1. 0. 0.]\n",
            " [1. 0. 0.]\n",
            " [1. 0. 0.]]\n"
          ],
          "name": "stdout"
        }
      ]
    },
    {
      "cell_type": "code",
      "metadata": {
        "colab": {
          "base_uri": "https://localhost:8080/"
        },
        "id": "KBmDQ4jmiDp8",
        "outputId": "d492de05-cb0b-4395-db93-75ce0aae1cee"
      },
      "source": [
        "x_train_sent = sequence.pad_sequences(x_train_sent, maxlen=maxlen_sent, padding=\"post\")\n",
        "x_test_sent = sequence.pad_sequences(x_test_sent, maxlen=maxlen_sent, padding=\"post\")\n",
        "print('x_train_sent shape:', x_train_sent.shape)\n",
        "print('x_test_sent shape:', x_test_sent.shape)"
      ],
      "execution_count": null,
      "outputs": [
        {
          "output_type": "stream",
          "text": [
            "x_train_sent shape: (6000, 23)\n",
            "x_test_sent shape: (1500, 23)\n"
          ],
          "name": "stdout"
        }
      ]
    },
    {
      "cell_type": "code",
      "metadata": {
        "id": "c83f97nbiO4V"
      },
      "source": [
        "text = data['after stopword'].values\n",
        "tokenizer = Tokenizer()\n",
        "tokenizer.fit_on_texts(text)"
      ],
      "execution_count": null,
      "outputs": []
    },
    {
      "cell_type": "code",
      "metadata": {
        "id": "TY8XEjxBCmY9"
      },
      "source": [
        "vocab = 48805"
      ],
      "execution_count": null,
      "outputs": []
    },
    {
      "cell_type": "code",
      "metadata": {
        "colab": {
          "base_uri": "https://localhost:8080/"
        },
        "id": "XSK5OkSmiwQC",
        "outputId": "4e9310f3-ec4d-4664-b084-97f9c13b3e8a"
      },
      "source": [
        "vocab"
      ],
      "execution_count": null,
      "outputs": [
        {
          "output_type": "execute_result",
          "data": {
            "text/plain": [
              "48805"
            ]
          },
          "metadata": {
            "tags": []
          },
          "execution_count": 23
        }
      ]
    },
    {
      "cell_type": "code",
      "metadata": {
        "id": "Vv94aYRpiV3L"
      },
      "source": [
        "initializer = initializers.RandomUniform(minval=-0.05, maxval=0.05, seed=2) "
      ],
      "execution_count": null,
      "outputs": []
    },
    {
      "cell_type": "code",
      "metadata": {
        "id": "7ijxEYVuSgrA"
      },
      "source": [
        "def get_model(X, Y):\n",
        "    model = Sequential() \n",
        "    model.add(Embedding(input_dim = vocab, output_dim = 200, input_length = 23, embeddings_initializer = initializer))\n",
        "    model.add(Bidirectional(LSTM(64, recurrent_initializer = initializer, \n",
        "                                 kernel_initializer = initializer, recurrent_dropout=0.1,\n",
        "                                 dropout=0.2, return_sequences =  False, activation = \"tanh\")))\n",
        "\n",
        "    model.add(Dense(32, activation = \"tanh\", kernel_initializer = initializer)) \n",
        "    model.add(Dropout(0.2))\n",
        "    model.add(Dense(3, activation='softmax', kernel_initializer = initializer)) \n",
        "    adam = Adam(lr=0.00005)\n",
        "\n",
        "    model.compile(loss='categorical_crossentropy', optimizer= adam, metrics=['accuracy'])\n",
        "    print(model.summary())\n",
        "    \n",
        "    return model"
      ],
      "execution_count": null,
      "outputs": []
    },
    {
      "cell_type": "code",
      "metadata": {
        "colab": {
          "base_uri": "https://localhost:8080/"
        },
        "id": "xymruKoZSgrE",
        "outputId": "a3343933-db10-4879-d396-8d063c50c440"
      },
      "source": [
        "model = get_model(x_train_sent, y_train_sent)"
      ],
      "execution_count": null,
      "outputs": [
        {
          "output_type": "stream",
          "text": [
            "Model: \"sequential_22\"\n",
            "_________________________________________________________________\n",
            "Layer (type)                 Output Shape              Param #   \n",
            "=================================================================\n",
            "embedding_22 (Embedding)     (None, 23, 200)           9761000   \n",
            "_________________________________________________________________\n",
            "bidirectional_39 (Bidirectio (None, 128)               135680    \n",
            "_________________________________________________________________\n",
            "dense_44 (Dense)             (None, 32)                4128      \n",
            "_________________________________________________________________\n",
            "dropout_20 (Dropout)         (None, 32)                0         \n",
            "_________________________________________________________________\n",
            "dense_45 (Dense)             (None, 3)                 99        \n",
            "=================================================================\n",
            "Total params: 9,900,907\n",
            "Trainable params: 9,900,907\n",
            "Non-trainable params: 0\n",
            "_________________________________________________________________\n",
            "None\n"
          ],
          "name": "stdout"
        },
        {
          "output_type": "stream",
          "text": [
            "/usr/local/lib/python3.7/dist-packages/tensorflow/python/keras/optimizer_v2/optimizer_v2.py:375: UserWarning: The `lr` argument is deprecated, use `learning_rate` instead.\n",
            "  \"The `lr` argument is deprecated, use `learning_rate` instead.\")\n"
          ],
          "name": "stderr"
        }
      ]
    },
    {
      "cell_type": "code",
      "metadata": {
        "colab": {
          "base_uri": "https://localhost:8080/"
        },
        "id": "QXimbEktSgrE",
        "outputId": "976064cc-3a1c-4c65-9200-41eff6c4eef8"
      },
      "source": [
        "history = model.fit(x_train_sent, y_train_sent, batch_size=64, epochs=50, verbose=1, validation_split=0.2, callbacks=[EarlyStopping(monitor='val_loss', patience=5, min_delta=0.0001)])"
      ],
      "execution_count": null,
      "outputs": [
        {
          "output_type": "stream",
          "text": [
            "Epoch 1/50\n",
            "75/75 [==============================] - 24s 224ms/step - loss: 1.0978 - accuracy: 0.4061 - val_loss: 1.0944 - val_accuracy: 0.4158\n",
            "Epoch 2/50\n",
            "75/75 [==============================] - 15s 196ms/step - loss: 1.0923 - accuracy: 0.4163 - val_loss: 1.0716 - val_accuracy: 0.4158\n",
            "Epoch 3/50\n",
            "75/75 [==============================] - 15s 197ms/step - loss: 1.0651 - accuracy: 0.4009 - val_loss: 1.0456 - val_accuracy: 0.4158\n",
            "Epoch 4/50\n",
            "75/75 [==============================] - 16s 207ms/step - loss: 1.0540 - accuracy: 0.4018 - val_loss: 1.0390 - val_accuracy: 0.4158\n",
            "Epoch 5/50\n",
            "75/75 [==============================] - 14s 193ms/step - loss: 1.0447 - accuracy: 0.3911 - val_loss: 1.0280 - val_accuracy: 0.4158\n",
            "Epoch 6/50\n",
            "75/75 [==============================] - 14s 193ms/step - loss: 1.0290 - accuracy: 0.4037 - val_loss: 0.9982 - val_accuracy: 0.4175\n",
            "Epoch 7/50\n",
            "75/75 [==============================] - 14s 192ms/step - loss: 0.9847 - accuracy: 0.4161 - val_loss: 0.8955 - val_accuracy: 0.5283\n",
            "Epoch 8/50\n",
            "75/75 [==============================] - 14s 192ms/step - loss: 0.8651 - accuracy: 0.5574 - val_loss: 0.8240 - val_accuracy: 0.5667\n",
            "Epoch 9/50\n",
            "75/75 [==============================] - 14s 193ms/step - loss: 0.7900 - accuracy: 0.5717 - val_loss: 0.7696 - val_accuracy: 0.5825\n",
            "Epoch 10/50\n",
            "75/75 [==============================] - 14s 193ms/step - loss: 0.7224 - accuracy: 0.6327 - val_loss: 0.7231 - val_accuracy: 0.7892\n",
            "Epoch 11/50\n",
            "75/75 [==============================] - 14s 193ms/step - loss: 0.6611 - accuracy: 0.7932 - val_loss: 0.6906 - val_accuracy: 0.7867\n",
            "Epoch 12/50\n",
            "75/75 [==============================] - 14s 193ms/step - loss: 0.6047 - accuracy: 0.8254 - val_loss: 0.6564 - val_accuracy: 0.7558\n",
            "Epoch 13/50\n",
            "75/75 [==============================] - 14s 193ms/step - loss: 0.5675 - accuracy: 0.8277 - val_loss: 0.6235 - val_accuracy: 0.7783\n",
            "Epoch 14/50\n",
            "75/75 [==============================] - 15s 194ms/step - loss: 0.5167 - accuracy: 0.8470 - val_loss: 0.5990 - val_accuracy: 0.8150\n",
            "Epoch 15/50\n",
            "75/75 [==============================] - 15s 194ms/step - loss: 0.4792 - accuracy: 0.8682 - val_loss: 0.5762 - val_accuracy: 0.8142\n",
            "Epoch 16/50\n",
            "75/75 [==============================] - 14s 193ms/step - loss: 0.4592 - accuracy: 0.8690 - val_loss: 0.5591 - val_accuracy: 0.8208\n",
            "Epoch 17/50\n",
            "75/75 [==============================] - 14s 193ms/step - loss: 0.4161 - accuracy: 0.8906 - val_loss: 0.5412 - val_accuracy: 0.8342\n",
            "Epoch 18/50\n",
            "75/75 [==============================] - 15s 194ms/step - loss: 0.3943 - accuracy: 0.9036 - val_loss: 0.5262 - val_accuracy: 0.8367\n",
            "Epoch 19/50\n",
            "75/75 [==============================] - 15s 194ms/step - loss: 0.3688 - accuracy: 0.9044 - val_loss: 0.5203 - val_accuracy: 0.8375\n",
            "Epoch 20/50\n",
            "75/75 [==============================] - 15s 194ms/step - loss: 0.3468 - accuracy: 0.9096 - val_loss: 0.5041 - val_accuracy: 0.8400\n",
            "Epoch 21/50\n",
            "75/75 [==============================] - 14s 193ms/step - loss: 0.3320 - accuracy: 0.9201 - val_loss: 0.5171 - val_accuracy: 0.8342\n",
            "Epoch 22/50\n",
            "75/75 [==============================] - 14s 192ms/step - loss: 0.3108 - accuracy: 0.9196 - val_loss: 0.4828 - val_accuracy: 0.8467\n",
            "Epoch 23/50\n",
            "75/75 [==============================] - 14s 192ms/step - loss: 0.3033 - accuracy: 0.9200 - val_loss: 0.4776 - val_accuracy: 0.8508\n",
            "Epoch 24/50\n",
            "75/75 [==============================] - 14s 192ms/step - loss: 0.3021 - accuracy: 0.9206 - val_loss: 0.4673 - val_accuracy: 0.8533\n",
            "Epoch 25/50\n",
            "75/75 [==============================] - 15s 194ms/step - loss: 0.2824 - accuracy: 0.9326 - val_loss: 0.4738 - val_accuracy: 0.8508\n",
            "Epoch 26/50\n",
            "75/75 [==============================] - 15s 194ms/step - loss: 0.2587 - accuracy: 0.9384 - val_loss: 0.4578 - val_accuracy: 0.8558\n",
            "Epoch 27/50\n",
            "75/75 [==============================] - 15s 194ms/step - loss: 0.2360 - accuracy: 0.9428 - val_loss: 0.4531 - val_accuracy: 0.8567\n",
            "Epoch 28/50\n",
            "75/75 [==============================] - 15s 194ms/step - loss: 0.2408 - accuracy: 0.9416 - val_loss: 0.4461 - val_accuracy: 0.8592\n",
            "Epoch 29/50\n",
            "75/75 [==============================] - 14s 193ms/step - loss: 0.2224 - accuracy: 0.9485 - val_loss: 0.4488 - val_accuracy: 0.8583\n",
            "Epoch 30/50\n",
            "75/75 [==============================] - 15s 194ms/step - loss: 0.2221 - accuracy: 0.9435 - val_loss: 0.4561 - val_accuracy: 0.8558\n",
            "Epoch 31/50\n",
            "75/75 [==============================] - 15s 194ms/step - loss: 0.2146 - accuracy: 0.9466 - val_loss: 0.4542 - val_accuracy: 0.8608\n",
            "Epoch 32/50\n",
            "75/75 [==============================] - 15s 194ms/step - loss: 0.2159 - accuracy: 0.9465 - val_loss: 0.4576 - val_accuracy: 0.8592\n",
            "Epoch 33/50\n",
            "75/75 [==============================] - 15s 194ms/step - loss: 0.1937 - accuracy: 0.9557 - val_loss: 0.4663 - val_accuracy: 0.8517\n"
          ],
          "name": "stdout"
        }
      ]
    },
    {
      "cell_type": "code",
      "metadata": {
        "colab": {
          "base_uri": "https://localhost:8080/"
        },
        "id": "dXIrZmxBSgrF",
        "outputId": "056b3ab0-b19e-4851-d7b7-332ae9841635"
      },
      "source": [
        "_, acc = model.evaluate(x_test_sent, y_test_sent, verbose=0)\n",
        "print(\"Accuracy: %.2f\" % (acc*100), \"%\")"
      ],
      "execution_count": null,
      "outputs": [
        {
          "output_type": "stream",
          "text": [
            "Accuracy: 84.87 %\n"
          ],
          "name": "stdout"
        }
      ]
    },
    {
      "cell_type": "code",
      "metadata": {
        "colab": {
          "base_uri": "https://localhost:8080/"
        },
        "id": "LlFs_yWfUpOt",
        "outputId": "6727fcf7-5398-4cb0-cd12-c5a9419b5a9a"
      },
      "source": [
        "new_review_category = model.predict_classes(x_test_sent)"
      ],
      "execution_count": null,
      "outputs": [
        {
          "output_type": "stream",
          "text": [
            "/usr/local/lib/python3.7/dist-packages/keras/engine/sequential.py:450: UserWarning: `model.predict_classes()` is deprecated and will be removed after 2021-01-01. Please use instead:* `np.argmax(model.predict(x), axis=-1)`,   if your model does multi-class classification   (e.g. if it uses a `softmax` last-layer activation).* `(model.predict(x) > 0.5).astype(\"int32\")`,   if your model does binary classification   (e.g. if it uses a `sigmoid` last-layer activation).\n",
            "  warnings.warn('`model.predict_classes()` is deprecated and '\n"
          ],
          "name": "stderr"
        }
      ]
    },
    {
      "cell_type": "code",
      "metadata": {
        "id": "L6LHad8GUxo4"
      },
      "source": [
        "decode_sent = np.argmax(y_test_sent, axis=1)"
      ],
      "execution_count": null,
      "outputs": []
    },
    {
      "cell_type": "code",
      "metadata": {
        "id": "m8Ef6HOzU0Na"
      },
      "source": [
        "lab_sent = [\"negatif\",\"netral\",\"positif\"]"
      ],
      "execution_count": null,
      "outputs": []
    },
    {
      "cell_type": "code",
      "metadata": {
        "colab": {
          "base_uri": "https://localhost:8080/",
          "height": 497
        },
        "id": "auWtEjkDU_9j",
        "outputId": "3ec8afee-16b1-4d1d-9274-ae1a0a7a4a78"
      },
      "source": [
        "from sklearn.metrics import confusion_matrix\n",
        "def conf_matrix(Y_act, Y_pred, lab):\n",
        "    confusion_mtx = confusion_matrix(Y_act, Y_pred)\n",
        "    plt.figure(figsize=(10,8))\n",
        "    sns.heatmap(confusion_mtx, annot=True, fmt=\"d\", xticklabels=lab, yticklabels=lab)\n",
        "    plt.ylabel(\"Actual\")\n",
        "    plt.xlabel(\"Predicted\")\n",
        "    plt.show()\n",
        "\n",
        "conf_matrix(new_review_category, decode_sent, lab_sent)"
      ],
      "execution_count": null,
      "outputs": [
        {
          "output_type": "display_data",
          "data": {
            "image/png": "[encoded data removed]",
            "text/plain": [
              "<Figure size 720x576 with 2 Axes>"
            ]
          },
          "metadata": {
            "tags": [],
            "needs_background": "light"
          }
        }
      ]
    },
    {
      "cell_type": "code",
      "metadata": {
        "colab": {
          "base_uri": "https://localhost:8080/"
        },
        "id": "JYEZ4V9KliVs",
        "outputId": "1554e20d-8138-41f1-9ee9-7635715aeabc"
      },
      "source": [
        "from sklearn.metrics import accuracy_score\n",
        "accuracy_score(new_review_category, decode_sent)"
      ],
      "execution_count": null,
      "outputs": [
        {
          "output_type": "execute_result",
          "data": {
            "text/plain": [
              "0.8486666666666667"
            ]
          },
          "metadata": {
            "tags": []
          },
          "execution_count": 255
        }
      ]
    },
    {
      "cell_type": "code",
      "metadata": {
        "colab": {
          "base_uri": "https://localhost:8080/"
        },
        "id": "yREZk0IrloIK",
        "outputId": "fe42b5cf-1297-409b-e036-285c1df5c904"
      },
      "source": [
        "from sklearn.metrics import precision_score, \\\n",
        "    recall_score, confusion_matrix, classification_report, \\\n",
        "    accuracy_score, f1_score\n",
        "\n",
        "print('Accuracy:', accuracy_score(new_review_category, decode_sent))\n",
        "print('F1 score:', f1_score(new_review_category, decode_sent, average='macro'))\n",
        "print('Recall:', recall_score(new_review_category, decode_sent, average='macro'))\n",
        "print('Precision:', precision_score(new_review_category, decode_sent, average='macro'))"
      ],
      "execution_count": null,
      "outputs": [
        {
          "output_type": "stream",
          "text": [
            "Accuracy: 0.8486666666666667\n",
            "F1 score: 0.8502748178420375\n",
            "Recall: 0.8452639592641286\n",
            "Precision: 0.856236977127388\n"
          ],
          "name": "stdout"
        }
      ]
    },
    {
      "cell_type": "code",
      "metadata": {
        "colab": {
          "base_uri": "https://localhost:8080/"
        },
        "id": "bgb7BvCBlx6K",
        "outputId": "593f0a60-2597-4921-b108-f48378fbe560"
      },
      "source": [
        "accr_sent = model.evaluate(x_test_sent,y_test_sent)\n",
        "print('Test set\\n  Loss: {:0.3f}\\n  Accuracy: {:0.3f}'.format(accr_sent[0],accr_sent[1]))"
      ],
      "execution_count": null,
      "outputs": [
        {
          "output_type": "stream",
          "text": [
            "47/47 [==============================] - 1s 11ms/step - loss: 0.4808 - accuracy: 0.8487\n",
            "Test set\n",
            "  Loss: 0.481\n",
            "  Accuracy: 0.849\n"
          ],
          "name": "stdout"
        }
      ]
    },
    {
      "cell_type": "code",
      "metadata": {
        "colab": {
          "base_uri": "https://localhost:8080/",
          "height": 281
        },
        "id": "UH3q5C2Jl0Sf",
        "outputId": "4a34016c-612d-4e2d-ebed-36f3ad711890"
      },
      "source": [
        "plt.title('Loss')\n",
        "plt.plot(history.history['loss'], label='train')\n",
        "plt.plot(history.history['val_loss'], label='test')\n",
        "plt.legend()\n",
        "plt.show();"
      ],
      "execution_count": null,
      "outputs": [
        {
          "output_type": "display_data",
          "data": {
            "image/png": "[encoded data removed]",
            "text/plain": [
              "<Figure size 432x288 with 1 Axes>"
            ]
          },
          "metadata": {
            "tags": [],
            "needs_background": "light"
          }
        }
      ]
    },
    {
      "cell_type": "code",
      "metadata": {
        "colab": {
          "base_uri": "https://localhost:8080/",
          "height": 281
        },
        "id": "2K4iAp3RmEIn",
        "outputId": "8b7de421-efa2-4d02-eff6-93c4913f93cb"
      },
      "source": [
        "plt.title('Accuracy')\n",
        "plt.plot(history.history['accuracy'], label='train')\n",
        "plt.plot(history.history['val_accuracy'], label='test')\n",
        "plt.legend()\n",
        "plt.show();"
      ],
      "execution_count": null,
      "outputs": [
        {
          "output_type": "display_data",
          "data": {
            "image/png": "[encoded data removed]",
            "text/plain": [
              "<Figure size 432x288 with 1 Axes>"
            ]
          },
          "metadata": {
            "tags": [],
            "needs_background": "light"
          }
        }
      ]
    },
    {
      "cell_type": "code",
      "metadata": {
        "id": "5yKsNj04Py0c"
      },
      "source": [
        "model.save('/content/labeling sentimen 8487 fix2.h5')"
      ],
      "execution_count": null,
      "outputs": []
    },
    {
      "cell_type": "markdown",
      "metadata": {
        "id": "O7wK78AiSgrF"
      },
      "source": [
        "# Labeling Data"
      ]
    },
    {
      "cell_type": "code",
      "metadata": {
        "id": "clUBnK968H_1"
      },
      "source": [
        "unlabeled = pd.read_csv(\"/content/tanggal 16 after dupp.csv\")"
      ],
      "execution_count": null,
      "outputs": []
    },
    {
      "cell_type": "code",
      "metadata": {
        "id": "bANA7SsHSgrG"
      },
      "source": [
        "un_text = unlabeled['after stopword'].values"
      ],
      "execution_count": null,
      "outputs": []
    },
    {
      "cell_type": "code",
      "metadata": {
        "colab": {
          "base_uri": "https://localhost:8080/"
        },
        "id": "AF_gokbz7ene",
        "outputId": "61c44441-e8f5-4d8a-fcd6-0dc7f768b608"
      },
      "source": [
        "un_text"
      ],
      "execution_count": null,
      "outputs": [
        {
          "output_type": "execute_result",
          "data": {
            "text/plain": [
              "array(['kapolda jawa timur irjen pol nico afrinta mengungkapkan memaksa putar balik sedikitnya kendaraan',\n",
              "       'mau posting foto keluarga pas lebaran sebagian orang keluarganya enggak lengkap atau enggak bisa mudik',\n",
              "       'doang keluarga gue tahun enggak pada mudik byeee', ...,\n",
              "       'mengira gabener rupanya benar liburnya dipotong dong karena lebarannya gaboleh mudik',\n",
              "       'total kendaraan diputar balik sebanyak unit periode mei atau hari kebijakan larangan mud',\n",
              "       'magic com antena awas dicariin punya'], dtype=object)"
            ]
          },
          "metadata": {
            "tags": []
          },
          "execution_count": 370
        }
      ]
    },
    {
      "cell_type": "code",
      "metadata": {
        "id": "4gikcaGU7uYm"
      },
      "source": [
        "cols = ['after stopword']\n",
        "d_aspect = unlabeled[cols]\n",
        "\n",
        "d_aspect=d_aspect[d_aspect['after stopword'].notnull()]\n",
        "d_aspect.reset_index(drop=True,inplace=True)\n",
        "x_aspect = d_aspect.values\n",
        "x_aspect = d_aspect.iloc[:, 0].values"
      ],
      "execution_count": null,
      "outputs": []
    },
    {
      "cell_type": "code",
      "metadata": {
        "colab": {
          "base_uri": "https://localhost:8080/",
          "height": 419
        },
        "id": "VrB3GM4f7xpb",
        "outputId": "a4f1a7fa-c0f2-4ff5-e316-f558b4523487"
      },
      "source": [
        "d_aspect"
      ],
      "execution_count": null,
      "outputs": [
        {
          "output_type": "execute_result",
          "data": {
            "text/html": [
              "<div>\n",
              "<style scoped>\n",
              "    .dataframe tbody tr th:only-of-type {\n",
              "        vertical-align: middle;\n",
              "    }\n",
              "\n",
              "    .dataframe tbody tr th {\n",
              "        vertical-align: top;\n",
              "    }\n",
              "\n",
              "    .dataframe thead th {\n",
              "        text-align: right;\n",
              "    }\n",
              "</style>\n",
              "<table border=\"1\" class=\"dataframe\">\n",
              "  <thead>\n",
              "    <tr style=\"text-align: right;\">\n",
              "      <th></th>\n",
              "      <th>after stopword</th>\n",
              "    </tr>\n",
              "  </thead>\n",
              "  <tbody>\n",
              "    <tr>\n",
              "      <th>0</th>\n",
              "      <td>kapolda jawa timur irjen pol nico afrinta meng...</td>\n",
              "    </tr>\n",
              "    <tr>\n",
              "      <th>1</th>\n",
              "      <td>mau posting foto keluarga pas lebaran sebagian...</td>\n",
              "    </tr>\n",
              "    <tr>\n",
              "      <th>2</th>\n",
              "      <td>doang keluarga gue tahun enggak pada mudik byeee</td>\n",
              "    </tr>\n",
              "    <tr>\n",
              "      <th>3</th>\n",
              "      <td>ngeeeen urg teu bisa mudik tempat wisata pinuh...</td>\n",
              "    </tr>\n",
              "    <tr>\n",
              "      <th>4</th>\n",
              "      <td>terus preinternship jadi online enggak bisa of...</td>\n",
              "    </tr>\n",
              "    <tr>\n",
              "      <th>...</th>\n",
              "      <td>...</td>\n",
              "    </tr>\n",
              "    <tr>\n",
              "      <th>7705</th>\n",
              "      <td>plus sushow candu kalo menonton pasti bakalan ...</td>\n",
              "    </tr>\n",
              "    <tr>\n",
              "      <th>7706</th>\n",
              "      <td>duta mudik wkwk</td>\n",
              "    </tr>\n",
              "    <tr>\n",
              "      <th>7707</th>\n",
              "      <td>mengira gabener rupanya benar liburnya dipoton...</td>\n",
              "    </tr>\n",
              "    <tr>\n",
              "      <th>7708</th>\n",
              "      <td>total kendaraan diputar balik sebanyak unit pe...</td>\n",
              "    </tr>\n",
              "    <tr>\n",
              "      <th>7709</th>\n",
              "      <td>magic com antena awas dicariin punya</td>\n",
              "    </tr>\n",
              "  </tbody>\n",
              "</table>\n",
              "<p>7710 rows × 1 columns</p>\n",
              "</div>"
            ],
            "text/plain": [
              "                                         after stopword\n",
              "0     kapolda jawa timur irjen pol nico afrinta meng...\n",
              "1     mau posting foto keluarga pas lebaran sebagian...\n",
              "2      doang keluarga gue tahun enggak pada mudik byeee\n",
              "3     ngeeeen urg teu bisa mudik tempat wisata pinuh...\n",
              "4     terus preinternship jadi online enggak bisa of...\n",
              "...                                                 ...\n",
              "7705  plus sushow candu kalo menonton pasti bakalan ...\n",
              "7706                                    duta mudik wkwk\n",
              "7707  mengira gabener rupanya benar liburnya dipoton...\n",
              "7708  total kendaraan diputar balik sebanyak unit pe...\n",
              "7709               magic com antena awas dicariin punya\n",
              "\n",
              "[7710 rows x 1 columns]"
            ]
          },
          "metadata": {
            "tags": []
          },
          "execution_count": 372
        }
      ]
    },
    {
      "cell_type": "code",
      "metadata": {
        "colab": {
          "base_uri": "https://localhost:8080/"
        },
        "id": "mS9tT4387zZW",
        "outputId": "c052710b-3888-4e6c-e888-50b8c7ba0881"
      },
      "source": [
        "x_aspect"
      ],
      "execution_count": null,
      "outputs": [
        {
          "output_type": "execute_result",
          "data": {
            "text/plain": [
              "array(['kapolda jawa timur irjen pol nico afrinta mengungkapkan memaksa putar balik sedikitnya kendaraan',\n",
              "       'mau posting foto keluarga pas lebaran sebagian orang keluarganya enggak lengkap atau enggak bisa mudik',\n",
              "       'doang keluarga gue tahun enggak pada mudik byeee', ...,\n",
              "       'mengira gabener rupanya benar liburnya dipotong dong karena lebarannya gaboleh mudik',\n",
              "       'total kendaraan diputar balik sebanyak unit periode mei atau hari kebijakan larangan mud',\n",
              "       'magic com antena awas dicariin punya'], dtype=object)"
            ]
          },
          "metadata": {
            "tags": []
          },
          "execution_count": 373
        }
      ]
    },
    {
      "cell_type": "code",
      "metadata": {
        "colab": {
          "base_uri": "https://localhost:8080/"
        },
        "id": "nTfYu3i672ot",
        "outputId": "4216b9a8-2dca-4218-d090-a332920d3661"
      },
      "source": [
        "d_aspect.replace('', np.nan, inplace=True)\n",
        "d_aspect.dropna(inplace=True)\n",
        "\n",
        "d_aspect.reset_index(drop=True,inplace=True)\n",
        "\n",
        "x_aspect = d_aspect.values\n",
        "\n",
        "len(x_aspect)"
      ],
      "execution_count": null,
      "outputs": [
        {
          "output_type": "execute_result",
          "data": {
            "text/plain": [
              "7710"
            ]
          },
          "metadata": {
            "tags": []
          },
          "execution_count": 374
        }
      ]
    },
    {
      "cell_type": "code",
      "metadata": {
        "colab": {
          "base_uri": "https://localhost:8080/"
        },
        "id": "_L_sMvzZ75ro",
        "outputId": "66b574b8-634d-4bc9-9ade-4fa7fabe1b36"
      },
      "source": [
        "x_aspect"
      ],
      "execution_count": null,
      "outputs": [
        {
          "output_type": "execute_result",
          "data": {
            "text/plain": [
              "array([['kapolda jawa timur irjen pol nico afrinta mengungkapkan memaksa putar balik sedikitnya kendaraan'],\n",
              "       ['mau posting foto keluarga pas lebaran sebagian orang keluarganya enggak lengkap atau enggak bisa mudik'],\n",
              "       ['doang keluarga gue tahun enggak pada mudik byeee'],\n",
              "       ...,\n",
              "       ['mengira gabener rupanya benar liburnya dipotong dong karena lebarannya gaboleh mudik'],\n",
              "       ['total kendaraan diputar balik sebanyak unit periode mei atau hari kebijakan larangan mud'],\n",
              "       ['magic com antena awas dicariin punya']], dtype=object)"
            ]
          },
          "metadata": {
            "tags": []
          },
          "execution_count": 375
        }
      ]
    },
    {
      "cell_type": "code",
      "metadata": {
        "id": "-vSRaTEa8Tp7"
      },
      "source": [
        "tokenizer = Tokenizer()\n",
        "text_aspect = d_aspect['after stopword'].values\n",
        "maxlen_aspect = 23\n",
        "tokenizer.fit_on_texts(un_text)"
      ],
      "execution_count": null,
      "outputs": []
    },
    {
      "cell_type": "code",
      "metadata": {
        "id": "hicvUZZiB6M4"
      },
      "source": [
        "x_aspect = tokenizer.texts_to_sequences(un_text)\n",
        "x_aspect = sequence.pad_sequences(x_aspect, 23, padding=\"post\")\n",
        "vocab_aspect = 48805"
      ],
      "execution_count": null,
      "outputs": []
    },
    {
      "cell_type": "code",
      "metadata": {
        "id": "drwXT916SgrH"
      },
      "source": [
        "text1 = tokenizer.texts_to_sequences(un_text)\n",
        "text1 = pad_sequences(text1, maxlen=23, padding=\"post\")"
      ],
      "execution_count": null,
      "outputs": []
    },
    {
      "cell_type": "code",
      "metadata": {
        "colab": {
          "base_uri": "https://localhost:8080/"
        },
        "id": "OlSheCto7cKs",
        "outputId": "3b924e6c-2d8a-41ae-d30f-11b900cb03b9"
      },
      "source": [
        "text1"
      ],
      "execution_count": null,
      "outputs": [
        {
          "output_type": "execute_result",
          "data": {
            "text/plain": [
              "array([[  786,   296,   373, ...,     0,     0,     0],\n",
              "       [   11,  3200,   514, ...,     0,     0,     0],\n",
              "       [  229,    37,    21, ...,     0,     0,     0],\n",
              "       ...,\n",
              "       [  835,  4941,  4279, ...,     0,     0,     0],\n",
              "       [ 1000,   130,   562, ...,     0,     0,     0],\n",
              "       [11498, 11499, 11500, ...,     0,     0,     0]], dtype=int32)"
            ]
          },
          "metadata": {
            "tags": []
          },
          "execution_count": 379
        }
      ]
    },
    {
      "cell_type": "code",
      "metadata": {
        "id": "6fX9GigdSgrH"
      },
      "source": [
        "pred_label = model.predict(text1)\n",
        "label1 = np.argmax(pred_label, axis = 1) "
      ],
      "execution_count": null,
      "outputs": []
    },
    {
      "cell_type": "code",
      "metadata": {
        "colab": {
          "base_uri": "https://localhost:8080/"
        },
        "id": "0RToUwHVDvNL",
        "outputId": "ed83094e-cd22-43a5-d0b7-f251ca1460da"
      },
      "source": [
        "pred_label"
      ],
      "execution_count": null,
      "outputs": [
        {
          "output_type": "execute_result",
          "data": {
            "text/plain": [
              "array([[0.45354012, 0.4659188 , 0.0805411 ],\n",
              "       [0.00639177, 0.03815189, 0.9554564 ],\n",
              "       [0.03438633, 0.19838558, 0.76722807],\n",
              "       ...,\n",
              "       [0.021191  , 0.6642546 , 0.31455433],\n",
              "       [0.00630432, 0.03858992, 0.9551058 ],\n",
              "       [0.01987781, 0.88781923, 0.09230287]], dtype=float32)"
            ]
          },
          "metadata": {
            "tags": []
          },
          "execution_count": 381
        }
      ]
    },
    {
      "cell_type": "code",
      "metadata": {
        "colab": {
          "base_uri": "https://localhost:8080/"
        },
        "id": "fPez8JExDsU-",
        "outputId": "c579f8d3-47d9-4c1d-cd79-52b6bf136571"
      },
      "source": [
        "label1"
      ],
      "execution_count": null,
      "outputs": [
        {
          "output_type": "execute_result",
          "data": {
            "text/plain": [
              "array([1, 2, 2, ..., 1, 2, 1])"
            ]
          },
          "metadata": {
            "tags": []
          },
          "execution_count": 382
        }
      ]
    },
    {
      "cell_type": "code",
      "metadata": {
        "id": "iSwjbgo-SgrH"
      },
      "source": [
        "workbook = xlsxwriter.Workbook('/content/tanggal 16 after dup labeled sent.xlsx')\n",
        "worksheet = workbook.add_worksheet()\n",
        "\n",
        "row = 0\n",
        "col = 0\n",
        "\n",
        "rowHeaders = ['tweet', 'label']\n",
        "worksheet.write_row(row, col,  tuple(rowHeaders))\n",
        "\n",
        "\n",
        "for i in un_text:\n",
        "    tweet = i\n",
        "    rowValues = [tweet]\n",
        "    row += 1\n",
        "    worksheet.write_row(row, col, tuple(rowValues))\n",
        "\n",
        "row = 0\n",
        "for l in label1:\n",
        "    label = l\n",
        "    rowValues = [label]\n",
        "    row += 1 \n",
        "    worksheet.write_row(row, col + 1, tuple(rowValues))\n",
        "\n",
        "workbook.close()"
      ],
      "execution_count": null,
      "outputs": []
    }
  ]
}